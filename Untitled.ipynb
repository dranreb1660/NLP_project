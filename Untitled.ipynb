{
 "cells": [
  {
   "cell_type": "code",
   "execution_count": 6,
   "id": "8fed0e93-530e-4e6c-a7f7-b452a811ec98",
   "metadata": {},
   "outputs": [],
   "source": [
    "import re\n",
    "import string\n",
    "\n",
    "import pandas as pd\n",
    "import numpy as np\n",
    "\n",
    "from sklearn.feature_extraction.text import CountVectorizer\n",
    "from sklearn.model_selection import train_test_split\n",
    "\n",
    "from nltk.stem import SnowballStemmer\n",
    "from nltk.stem import WordNetLemmatizer\n",
    "\n",
    "from nltk.tokenize import word_tokenize\n",
    "from nltk.corpus import stopwords\n",
    "\n",
    "from optht import optht"
   ]
  },
  {
   "cell_type": "code",
   "execution_count": 7,
   "id": "f2e5f379-0c65-44dc-9903-165df9f3e41c",
   "metadata": {},
   "outputs": [
    {
     "data": {
      "text/html": [
       "<div>\n",
       "<style scoped>\n",
       "    .dataframe tbody tr th:only-of-type {\n",
       "        vertical-align: middle;\n",
       "    }\n",
       "\n",
       "    .dataframe tbody tr th {\n",
       "        vertical-align: top;\n",
       "    }\n",
       "\n",
       "    .dataframe thead th {\n",
       "        text-align: right;\n",
       "    }\n",
       "</style>\n",
       "<table border=\"1\" class=\"dataframe\">\n",
       "  <thead>\n",
       "    <tr style=\"text-align: right;\">\n",
       "      <th></th>\n",
       "      <th>question</th>\n",
       "      <th>answer</th>\n",
       "      <th>found_duplicate</th>\n",
       "    </tr>\n",
       "  </thead>\n",
       "  <tbody>\n",
       "    <tr>\n",
       "      <th>0</th>\n",
       "      <td>How do I change my password?</td>\n",
       "      <td>After you have logged in, you can change your ...</td>\n",
       "      <td>False</td>\n",
       "    </tr>\n",
       "    <tr>\n",
       "      <th>1</th>\n",
       "      <td>When will I receive my changed ATM PIN?</td>\n",
       "      <td>You will receive your new ATM PIN by post with...</td>\n",
       "      <td>False</td>\n",
       "    </tr>\n",
       "    <tr>\n",
       "      <th>2</th>\n",
       "      <td>Can I get my newly generated PIN online?</td>\n",
       "      <td>No, for security reasons we send you your ATM ...</td>\n",
       "      <td>False</td>\n",
       "    </tr>\n",
       "    <tr>\n",
       "      <th>3</th>\n",
       "      <td>How can I register for Autopay?</td>\n",
       "      <td>To register for Autopay: Step 1: Click on the ...</td>\n",
       "      <td>False</td>\n",
       "    </tr>\n",
       "    <tr>\n",
       "      <th>4</th>\n",
       "      <td>Can Chip Credit cards be used anywhere?</td>\n",
       "      <td>Yes, your HDFC Bank Chip Credit card can be us...</td>\n",
       "      <td>False</td>\n",
       "    </tr>\n",
       "  </tbody>\n",
       "</table>\n",
       "</div>"
      ],
      "text/plain": [
       "                                   question  \\\n",
       "0              How do I change my password?   \n",
       "1   When will I receive my changed ATM PIN?   \n",
       "2  Can I get my newly generated PIN online?   \n",
       "3           How can I register for Autopay?   \n",
       "4   Can Chip Credit cards be used anywhere?   \n",
       "\n",
       "                                              answer  found_duplicate  \n",
       "0  After you have logged in, you can change your ...            False  \n",
       "1  You will receive your new ATM PIN by post with...            False  \n",
       "2  No, for security reasons we send you your ATM ...            False  \n",
       "3  To register for Autopay: Step 1: Click on the ...            False  \n",
       "4  Yes, your HDFC Bank Chip Credit card can be us...            False  "
      ]
     },
     "execution_count": 7,
     "metadata": {},
     "output_type": "execute_result"
    }
   ],
   "source": [
    "corpus = pd.read_json('./data/HDFC_faq.txt')\n",
    "corpus.head(5)"
   ]
  },
  {
   "cell_type": "code",
   "execution_count": 8,
   "id": "0968d7cf-65ba-43f2-af09-7751d91e37d0",
   "metadata": {},
   "outputs": [
    {
     "data": {
      "text/html": [
       "<div>\n",
       "<style scoped>\n",
       "    .dataframe tbody tr th:only-of-type {\n",
       "        vertical-align: middle;\n",
       "    }\n",
       "\n",
       "    .dataframe tbody tr th {\n",
       "        vertical-align: top;\n",
       "    }\n",
       "\n",
       "    .dataframe thead th {\n",
       "        text-align: right;\n",
       "    }\n",
       "</style>\n",
       "<table border=\"1\" class=\"dataframe\">\n",
       "  <thead>\n",
       "    <tr style=\"text-align: right;\">\n",
       "      <th></th>\n",
       "      <th>question</th>\n",
       "      <th>answer</th>\n",
       "    </tr>\n",
       "  </thead>\n",
       "  <tbody>\n",
       "    <tr>\n",
       "      <th>0</th>\n",
       "      <td>How do I change my password?</td>\n",
       "      <td>After you have logged in, you can change your ...</td>\n",
       "    </tr>\n",
       "    <tr>\n",
       "      <th>1</th>\n",
       "      <td>When will I receive my changed ATM PIN?</td>\n",
       "      <td>You will receive your new ATM PIN by post with...</td>\n",
       "    </tr>\n",
       "    <tr>\n",
       "      <th>2</th>\n",
       "      <td>Can I get my newly generated PIN online?</td>\n",
       "      <td>No, for security reasons we send you your ATM ...</td>\n",
       "    </tr>\n",
       "    <tr>\n",
       "      <th>3</th>\n",
       "      <td>How can I register for Autopay?</td>\n",
       "      <td>To register for Autopay: Step 1: Click on the ...</td>\n",
       "    </tr>\n",
       "    <tr>\n",
       "      <th>4</th>\n",
       "      <td>Can Chip Credit cards be used anywhere?</td>\n",
       "      <td>Yes, your HDFC Bank Chip Credit card can be us...</td>\n",
       "    </tr>\n",
       "  </tbody>\n",
       "</table>\n",
       "</div>"
      ],
      "text/plain": [
       "                                   question  \\\n",
       "0              How do I change my password?   \n",
       "1   When will I receive my changed ATM PIN?   \n",
       "2  Can I get my newly generated PIN online?   \n",
       "3           How can I register for Autopay?   \n",
       "4   Can Chip Credit cards be used anywhere?   \n",
       "\n",
       "                                              answer  \n",
       "0  After you have logged in, you can change your ...  \n",
       "1  You will receive your new ATM PIN by post with...  \n",
       "2  No, for security reasons we send you your ATM ...  \n",
       "3  To register for Autopay: Step 1: Click on the ...  \n",
       "4  Yes, your HDFC Bank Chip Credit card can be us...  "
      ]
     },
     "execution_count": 8,
     "metadata": {},
     "output_type": "execute_result"
    }
   ],
   "source": [
    "corpus= corpus[['question', 'answer']]\n",
    "corpus.head(5)"
   ]
  },
  {
   "cell_type": "code",
   "execution_count": 9,
   "id": "41bba953-f33c-4978-bce5-1957fcfceb92",
   "metadata": {},
   "outputs": [
    {
     "data": {
      "text/plain": [
       "(2236, 2)"
      ]
     },
     "execution_count": 9,
     "metadata": {},
     "output_type": "execute_result"
    }
   ],
   "source": [
    "corpus.shape"
   ]
  },
  {
   "cell_type": "code",
   "execution_count": 10,
   "id": "619bd838-992d-45f4-93f0-84b39c06b6e2",
   "metadata": {},
   "outputs": [
    {
     "data": {
      "text/plain": [
       "(2233, 2)"
      ]
     },
     "execution_count": 10,
     "metadata": {},
     "output_type": "execute_result"
    }
   ],
   "source": [
    "# Lets check and drop dupicate questions\n",
    "corpus.drop_duplicates(subset='question', keep='first', inplace=True)\n",
    "corpus.reset_index(drop=True, inplace=True)\n",
    "corpus.shape"
   ]
  },
  {
   "cell_type": "code",
   "execution_count": 11,
   "id": "2c6be42e-e552-4c75-a89d-e744f1bea082",
   "metadata": {},
   "outputs": [
    {
     "data": {
      "text/html": [
       "<div>\n",
       "<style scoped>\n",
       "    .dataframe tbody tr th:only-of-type {\n",
       "        vertical-align: middle;\n",
       "    }\n",
       "\n",
       "    .dataframe tbody tr th {\n",
       "        vertical-align: top;\n",
       "    }\n",
       "\n",
       "    .dataframe thead th {\n",
       "        text-align: right;\n",
       "    }\n",
       "</style>\n",
       "<table border=\"1\" class=\"dataframe\">\n",
       "  <thead>\n",
       "    <tr style=\"text-align: right;\">\n",
       "      <th></th>\n",
       "      <th>question</th>\n",
       "      <th>answer</th>\n",
       "    </tr>\n",
       "  </thead>\n",
       "  <tbody>\n",
       "  </tbody>\n",
       "</table>\n",
       "</div>"
      ],
      "text/plain": [
       "Empty DataFrame\n",
       "Columns: [question, answer]\n",
       "Index: []"
      ]
     },
     "execution_count": 11,
     "metadata": {},
     "output_type": "execute_result"
    }
   ],
   "source": [
    "# lets check and drop Nans\n",
    "corpus[corpus.isna().any(axis=1)]"
   ]
  },
  {
   "cell_type": "code",
   "execution_count": 12,
   "id": "224c3f08-3968-47a1-95ed-a9fd37ea0c7f",
   "metadata": {},
   "outputs": [
    {
     "data": {
      "text/plain": [
       "0                            How do I change my password?\n",
       "1                 When will I receive my changed ATM PIN?\n",
       "2                Can I get my newly generated PIN online?\n",
       "3                         How can I register for Autopay?\n",
       "4                 Can Chip Credit cards be used anywhere?\n",
       "                              ...                        \n",
       "2228    How to make payment for Insta Loan / Insta Jum...\n",
       "2229    What is the disbursement time for Insta Loan /...\n",
       "2230             How to check the available credit limit?\n",
       "2231    What is the promo code to be entered in the lo...\n",
       "2232    After loan disbursal, How to check the active ...\n",
       "Name: question, Length: 2233, dtype: object"
      ]
     },
     "execution_count": 12,
     "metadata": {},
     "output_type": "execute_result"
    }
   ],
   "source": [
    "corpus['question']"
   ]
  },
  {
   "cell_type": "markdown",
   "id": "f14f1f4e-e4e7-45ce-9ed3-1fe52f7bbd87",
   "metadata": {},
   "source": [
    "### we can seee there are some slashes which are mostly representing ***or*** , so I will go ahead and re place with 'or'"
   ]
  },
  {
   "cell_type": "code",
   "execution_count": 5,
   "id": "ab1afd36-2eaf-4bee-a8c9-85f16f3a15cd",
   "metadata": {},
   "outputs": [],
   "source": [
    "def clean_text1(text):\n",
    "    ''' Make texts lower case, remove text in square bracket, remove punctuation'''\n",
    "    text = text.lower()\n",
    "    text = re.sub(r\"\"\"[\\/]\"\"\", ' or ', text)\n",
    "    \n",
    "    # Removes quotation marks.\n",
    "    text = text.replace('\"', \"\")\n",
    "    \n",
    "    # Remove numeric characters.\n",
    "    text = re.sub('\\w*\\d\\w*', ' ', text)\n",
    "    \n",
    "    # Remove puncuation.\n",
    "    text = re.sub('[%s]' % re.escape(string.punctuation), ' ', text)\n",
    "    \n",
    "    return text\n",
    "round1 = lambda x: clean_text1(x)"
   ]
  },
  {
   "cell_type": "code",
   "execution_count": 14,
   "id": "8c4d4ebb-5590-4504-ade1-1e302c01a11d",
   "metadata": {},
   "outputs": [],
   "source": [
    "corpus['question'] = corpus['question'].apply(round1)"
   ]
  },
  {
   "cell_type": "code",
   "execution_count": 22,
   "id": "c9dbf00d-eaf7-4a3b-811e-eef86f56be95",
   "metadata": {},
   "outputs": [
    {
     "name": "stderr",
     "output_type": "stream",
     "text": [
      "/var/folders/m0/sh8zkxcs0sd0b_z8qd2zwrmm0000gn/T/ipykernel_8084/2972235680.py:4: FutureWarning: The default value of regex will change from True to False in a future version.\n",
      "  corpus['question'] = corpus['question'].str.replace('[^A-Za-z\\s]+', '')\n"
     ]
    },
    {
     "data": {
      "text/plain": [
       "0                             How do I change my password\n",
       "1                  When will I receive my changed ATM PIN\n",
       "2                 Can I get my newly generated PIN online\n",
       "3                          How can I register for Autopay\n",
       "4                  Can Chip Credit cards be used anywhere\n",
       "                              ...                        \n",
       "2228    How to make payment for Insta Loan or Insta Ju...\n",
       "2229    What is the disbursement time for Insta Loan o...\n",
       "2230              How to check the available credit limit\n",
       "2231    What is the promo code to be entered in the lo...\n",
       "2232    After loan disbursal How to check the active l...\n",
       "Name: question, Length: 2233, dtype: object"
      ]
     },
     "execution_count": 22,
     "metadata": {},
     "output_type": "execute_result"
    }
   ],
   "source": [
    "# Replace \"/\" with \"or\"\n",
    "corpus['question'] = corpus['question'].str.replace(' / ', ' or ')\n",
    "# Ignore numbers and punctuations\n",
    "corpus['question'] = corpus['question'].str.replace('[^A-Za-z\\s]+', '')\n",
    "corpus['question']"
   ]
  },
  {
   "cell_type": "code",
   "execution_count": 29,
   "id": "3ba8e692-e978-43d1-b228-99725c570f49",
   "metadata": {},
   "outputs": [
    {
     "data": {
      "text/plain": [
       "179"
      ]
     },
     "execution_count": 29,
     "metadata": {},
     "output_type": "execute_result"
    }
   ],
   "source": []
  },
  {
   "cell_type": "code",
   "execution_count": 4,
   "id": "f32e8497-62c2-404a-b895-303bd29f704a",
   "metadata": {},
   "outputs": [
    {
     "data": {
      "text/plain": [
       "<nltk.stem.snowball.SnowballStemmer at 0x13b837730>"
      ]
     },
     "execution_count": 4,
     "metadata": {},
     "output_type": "execute_result"
    }
   ],
   "source": [
    "stemmer = SnowballStemmer('english')\n",
    "lemmer = WordNetLemmatizer()\n"
   ]
  },
  {
   "cell_type": "code",
   "execution_count": null,
   "id": "6ceef4b2-a84d-4cd8-8367-a2a7f3f690c7",
   "metadata": {},
   "outputs": [],
   "source": [
    "def xform_and_train(doc, vectorizer= CountVectorizer(stop_words=None, ngram_range=(1,1))):\n",
    "    doc_word = vectorizer.fit_transform(document)\n",
    "    vocab = vectorizer.get_feature_names()\n",
    "    return vectorizer, doc_word, vocab"
   ]
  }
 ],
 "metadata": {
  "kernelspec": {
   "display_name": "Python 3.9 (metis)",
   "language": "python",
   "name": "metis"
  },
  "language_info": {
   "codemirror_mode": {
    "name": "ipython",
    "version": 3
   },
   "file_extension": ".py",
   "mimetype": "text/x-python",
   "name": "python",
   "nbconvert_exporter": "python",
   "pygments_lexer": "ipython3",
   "version": "3.9.6"
  }
 },
 "nbformat": 4,
 "nbformat_minor": 5
}
